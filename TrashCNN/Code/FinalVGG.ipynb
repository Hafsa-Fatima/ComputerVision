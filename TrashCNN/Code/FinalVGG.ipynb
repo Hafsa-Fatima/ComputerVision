{
  "nbformat": 4,
  "nbformat_minor": 0,
  "metadata": {
    "colab": {
      "name": "FinalVGG.ipynb",
      "provenance": [],
      "collapsed_sections": []
    },
    "kernelspec": {
      "name": "python3",
      "display_name": "Python 3"
    },
    "accelerator": "GPU"
  },
  "cells": [
    {
      "cell_type": "markdown",
      "metadata": {
        "id": "Wu_ZYfrK18qQ",
        "colab_type": "text"
      },
      "source": [
        "VGG 16 Classifier"
      ]
    },
    {
      "cell_type": "code",
      "metadata": {
        "id": "yM_PwSm72Dvb",
        "colab_type": "code",
        "colab": {
          "base_uri": "https://localhost:8080/",
          "height": 34
        },
        "outputId": "5c786173-c126-4012-fee5-3b56e2f6e4f9"
      },
      "source": [
        "from __future__ import absolute_import, division, print_function, unicode_literals\n",
        "\n",
        "try:\n",
        "  # %tensorflow_version only exists in Colab.\n",
        "  %tensorflow_version 2.x\n",
        "except Exception:\n",
        "  pass\n",
        "import tensorflow as tf\n",
        "\n",
        "from tensorflow.keras import datasets, layers, models,metrics\n",
        "import matplotlib.pyplot as plt\n",
        "import numpy as np\n",
        "from datetime import datetime\n",
        "from packaging import version\n",
        "%load_ext tensorboard\n",
        "!rm -rf ./logs/ \n"
      ],
      "execution_count": 2,
      "outputs": [
        {
          "output_type": "stream",
          "text": [
            "TensorFlow 2.x selected.\n"
          ],
          "name": "stdout"
        }
      ]
    },
    {
      "cell_type": "markdown",
      "metadata": {
        "id": "axWvYdRm2cjy",
        "colab_type": "text"
      },
      "source": [
        "Import Data from drive"
      ]
    },
    {
      "cell_type": "code",
      "metadata": {
        "id": "5JywBatq2Zqt",
        "colab_type": "code",
        "colab": {
          "base_uri": "https://localhost:8080/",
          "height": 138
        },
        "outputId": "e6ac03f2-7635-4c77-e2b5-7fa92f636f0f"
      },
      "source": [
        "from google.colab import drive\n",
        "drive.mount('/content/gdrive')\n",
        "PATH_OF_DATA= '/content/gdrive/\"My Drive\"/garythung-trashnet'\n",
        "!ls {PATH_OF_DATA}"
      ],
      "execution_count": 3,
      "outputs": [
        {
          "output_type": "stream",
          "text": [
            "Go to this URL in a browser: https://accounts.google.com/o/oauth2/auth?client_id=947318989803-6bn6qk8qdgf4n4g3pfee6491hc0brc4i.apps.googleusercontent.com&redirect_uri=urn%3aietf%3awg%3aoauth%3a2.0%3aoob&response_type=code&scope=email%20https%3a%2f%2fwww.googleapis.com%2fauth%2fdocs.test%20https%3a%2f%2fwww.googleapis.com%2fauth%2fdrive%20https%3a%2f%2fwww.googleapis.com%2fauth%2fdrive.photos.readonly%20https%3a%2f%2fwww.googleapis.com%2fauth%2fpeopleapi.readonly\n",
            "\n",
            "Enter your authorization code:\n",
            "··········\n",
            "Mounted at /content/gdrive\n",
            "models\tmodels1  test_set  train_set\n"
          ],
          "name": "stdout"
        }
      ]
    },
    {
      "cell_type": "markdown",
      "metadata": {
        "id": "MhxFUclk2z1C",
        "colab_type": "text"
      },
      "source": [
        "Model Defination"
      ]
    },
    {
      "cell_type": "code",
      "metadata": {
        "id": "56i35D102OHt",
        "colab_type": "code",
        "colab": {}
      },
      "source": [
        "def VGG_16(weights_path=None):\n",
        "    from tensorflow.keras.models import Sequential\n",
        "\n",
        "    from tensorflow.keras.layers import Flatten, Dense, Dropout\n",
        "\n",
        "    from tensorflow.keras.layers import Convolution2D, MaxPooling2D, ZeroPadding2D\n",
        "\n",
        "    model = Sequential()\n",
        "\n",
        "    model.add(ZeroPadding2D((1,1),input_shape=(224,224,3)))\n",
        "\n",
        "    model.add(Convolution2D(64, 3, 3, activation='relu',padding='same'))\n",
        "\n",
        "    # model.add(ZeroPadding2D((1,1)))\n",
        "\n",
        "    model.add(Convolution2D(64, 3, 3, activation='relu',padding='same'))\n",
        "\n",
        "    model.add(MaxPooling2D((2,2), strides=(2,2)))\n",
        "\n",
        "\n",
        "\n",
        "    model.add(ZeroPadding2D((1,1)))\n",
        "\n",
        "    model.add(Convolution2D(128, 3, 3, activation='relu',padding='same'))\n",
        "\n",
        "    model.add(ZeroPadding2D((1,1)))\n",
        "\n",
        "    model.add(Convolution2D(128, 3, 3, activation='relu',padding='same'))\n",
        "\n",
        "    model.add(MaxPooling2D((2,2), strides=(2,2)))\n",
        "\n",
        "\n",
        "\n",
        "    model.add(ZeroPadding2D((1,1)))\n",
        "\n",
        "    model.add(Convolution2D(256, 3, 3, activation='relu',padding='same'))\n",
        "\n",
        "    model.add(ZeroPadding2D((1,1)))\n",
        "\n",
        "    model.add(Convolution2D(256, 3, 3, activation='relu',padding='same'))\n",
        "\n",
        "    model.add(ZeroPadding2D((1,1)))\n",
        "\n",
        "    model.add(Convolution2D(256, 3, 3, activation='relu',padding='same'))\n",
        "\n",
        "    model.add(MaxPooling2D((2,2), strides=(2,2)))\n",
        "\n",
        "\n",
        "\n",
        "    model.add(ZeroPadding2D((1,1)))\n",
        "\n",
        "    model.add(Convolution2D(512, 3, 3, activation='relu',padding='same'))\n",
        "\n",
        "    model.add(ZeroPadding2D((1,1)))\n",
        "\n",
        "    model.add(Convolution2D(512, 3, 3, activation='relu',padding='same'))\n",
        "\n",
        "    model.add(ZeroPadding2D((1,1)))\n",
        "\n",
        "    model.add(Convolution2D(512, 3, 3, activation='relu',padding='same'))\n",
        "\n",
        "    model.add(MaxPooling2D((2,2), strides=(2,2)))\n",
        "\n",
        "\n",
        "\n",
        "    model.add(ZeroPadding2D((1,1)))\n",
        "\n",
        "    model.add(Convolution2D(512, 3, 3, activation='relu',padding='same'))\n",
        "\n",
        "    model.add(ZeroPadding2D((1,1)))\n",
        "\n",
        "    model.add(Convolution2D(512, 3, 3, activation='relu',padding='same'))\n",
        "\n",
        "    model.add(ZeroPadding2D((1,1)))\n",
        "\n",
        "    model.add(Convolution2D(512, 3, 3, activation='relu',padding='same'))\n",
        "\n",
        "    model.add(MaxPooling2D((2,2), strides=(2,2)))\n",
        "\n",
        "\n",
        "\n",
        "    model.add(Flatten())\n",
        "\n",
        "    model.add(Dense(4096, activation='relu'))\n",
        "\n",
        "    model.add(Dropout(0.5))\n",
        "\n",
        "    model.add(Dense(4096, activation='relu'))\n",
        "\n",
        "    model.add(Dropout(0.5))\n",
        "\n",
        "    model.add(Dense(6, activation='softmax'))\n",
        "\n",
        "    return model"
      ],
      "execution_count": 0,
      "outputs": []
    },
    {
      "cell_type": "code",
      "metadata": {
        "id": "ORZlIb5j3J2F",
        "colab_type": "code",
        "colab": {
          "base_uri": "https://localhost:8080/",
          "height": 70
        },
        "outputId": "c233606a-1779-4b16-bfc1-e86906c82bc6"
      },
      "source": [
        "model1=tf.keras.applications.vgg16.VGG16()"
      ],
      "execution_count": 4,
      "outputs": [
        {
          "output_type": "stream",
          "text": [
            "Downloading data from https://github.com/fchollet/deep-learning-models/releases/download/v0.1/vgg16_weights_tf_dim_ordering_tf_kernels.h5\n",
            "553467904/553467096 [==============================] - 5s 0us/step\n"
          ],
          "name": "stdout"
        }
      ]
    },
    {
      "cell_type": "code",
      "metadata": {
        "id": "spdkjpE73U2H",
        "colab_type": "code",
        "colab": {}
      },
      "source": [
        "model = tf.keras.models.Sequential()\n",
        "for layer in model1.layers[:-1]:\n",
        "  model.add(layer)"
      ],
      "execution_count": 0,
      "outputs": []
    },
    {
      "cell_type": "code",
      "metadata": {
        "id": "tG3wxLtPEsOG",
        "colab_type": "code",
        "colab": {
          "base_uri": "https://localhost:8080/",
          "height": 857
        },
        "outputId": "07f771cb-5c77-4cc3-fa77-1fd5a496d208"
      },
      "source": [
        "model.summary()"
      ],
      "execution_count": 6,
      "outputs": [
        {
          "output_type": "stream",
          "text": [
            "Model: \"sequential\"\n",
            "_________________________________________________________________\n",
            "Layer (type)                 Output Shape              Param #   \n",
            "=================================================================\n",
            "block1_conv1 (Conv2D)        (None, 224, 224, 64)      1792      \n",
            "_________________________________________________________________\n",
            "block1_conv2 (Conv2D)        (None, 224, 224, 64)      36928     \n",
            "_________________________________________________________________\n",
            "block1_pool (MaxPooling2D)   (None, 112, 112, 64)      0         \n",
            "_________________________________________________________________\n",
            "block2_conv1 (Conv2D)        (None, 112, 112, 128)     73856     \n",
            "_________________________________________________________________\n",
            "block2_conv2 (Conv2D)        (None, 112, 112, 128)     147584    \n",
            "_________________________________________________________________\n",
            "block2_pool (MaxPooling2D)   (None, 56, 56, 128)       0         \n",
            "_________________________________________________________________\n",
            "block3_conv1 (Conv2D)        (None, 56, 56, 256)       295168    \n",
            "_________________________________________________________________\n",
            "block3_conv2 (Conv2D)        (None, 56, 56, 256)       590080    \n",
            "_________________________________________________________________\n",
            "block3_conv3 (Conv2D)        (None, 56, 56, 256)       590080    \n",
            "_________________________________________________________________\n",
            "block3_pool (MaxPooling2D)   (None, 28, 28, 256)       0         \n",
            "_________________________________________________________________\n",
            "block4_conv1 (Conv2D)        (None, 28, 28, 512)       1180160   \n",
            "_________________________________________________________________\n",
            "block4_conv2 (Conv2D)        (None, 28, 28, 512)       2359808   \n",
            "_________________________________________________________________\n",
            "block4_conv3 (Conv2D)        (None, 28, 28, 512)       2359808   \n",
            "_________________________________________________________________\n",
            "block4_pool (MaxPooling2D)   (None, 14, 14, 512)       0         \n",
            "_________________________________________________________________\n",
            "block5_conv1 (Conv2D)        (None, 14, 14, 512)       2359808   \n",
            "_________________________________________________________________\n",
            "block5_conv2 (Conv2D)        (None, 14, 14, 512)       2359808   \n",
            "_________________________________________________________________\n",
            "block5_conv3 (Conv2D)        (None, 14, 14, 512)       2359808   \n",
            "_________________________________________________________________\n",
            "block5_pool (MaxPooling2D)   (None, 7, 7, 512)         0         \n",
            "_________________________________________________________________\n",
            "flatten (Flatten)            (None, 25088)             0         \n",
            "_________________________________________________________________\n",
            "fc1 (Dense)                  (None, 4096)              102764544 \n",
            "_________________________________________________________________\n",
            "fc2 (Dense)                  (None, 4096)              16781312  \n",
            "=================================================================\n",
            "Total params: 134,260,544\n",
            "Trainable params: 134,260,544\n",
            "Non-trainable params: 0\n",
            "_________________________________________________________________\n"
          ],
          "name": "stdout"
        }
      ]
    },
    {
      "cell_type": "code",
      "metadata": {
        "id": "iUqPvvh_Eusb",
        "colab_type": "code",
        "colab": {}
      },
      "source": [
        "for layer in model.layers:\n",
        "  layer.trainable=False"
      ],
      "execution_count": 0,
      "outputs": []
    },
    {
      "cell_type": "code",
      "metadata": {
        "id": "Bby-GTiGEw7U",
        "colab_type": "code",
        "colab": {}
      },
      "source": [
        "model.add(tf.keras.layers.Dense(6,activation='softmax'))"
      ],
      "execution_count": 0,
      "outputs": []
    },
    {
      "cell_type": "code",
      "metadata": {
        "id": "I-jEuu8AEzcA",
        "colab_type": "code",
        "colab": {
          "base_uri": "https://localhost:8080/",
          "height": 890
        },
        "outputId": "11cc2512-23c7-43de-f6ed-ab9c230ad631"
      },
      "source": [
        "model.summary()"
      ],
      "execution_count": 9,
      "outputs": [
        {
          "output_type": "stream",
          "text": [
            "Model: \"sequential\"\n",
            "_________________________________________________________________\n",
            "Layer (type)                 Output Shape              Param #   \n",
            "=================================================================\n",
            "block1_conv1 (Conv2D)        (None, 224, 224, 64)      1792      \n",
            "_________________________________________________________________\n",
            "block1_conv2 (Conv2D)        (None, 224, 224, 64)      36928     \n",
            "_________________________________________________________________\n",
            "block1_pool (MaxPooling2D)   (None, 112, 112, 64)      0         \n",
            "_________________________________________________________________\n",
            "block2_conv1 (Conv2D)        (None, 112, 112, 128)     73856     \n",
            "_________________________________________________________________\n",
            "block2_conv2 (Conv2D)        (None, 112, 112, 128)     147584    \n",
            "_________________________________________________________________\n",
            "block2_pool (MaxPooling2D)   (None, 56, 56, 128)       0         \n",
            "_________________________________________________________________\n",
            "block3_conv1 (Conv2D)        (None, 56, 56, 256)       295168    \n",
            "_________________________________________________________________\n",
            "block3_conv2 (Conv2D)        (None, 56, 56, 256)       590080    \n",
            "_________________________________________________________________\n",
            "block3_conv3 (Conv2D)        (None, 56, 56, 256)       590080    \n",
            "_________________________________________________________________\n",
            "block3_pool (MaxPooling2D)   (None, 28, 28, 256)       0         \n",
            "_________________________________________________________________\n",
            "block4_conv1 (Conv2D)        (None, 28, 28, 512)       1180160   \n",
            "_________________________________________________________________\n",
            "block4_conv2 (Conv2D)        (None, 28, 28, 512)       2359808   \n",
            "_________________________________________________________________\n",
            "block4_conv3 (Conv2D)        (None, 28, 28, 512)       2359808   \n",
            "_________________________________________________________________\n",
            "block4_pool (MaxPooling2D)   (None, 14, 14, 512)       0         \n",
            "_________________________________________________________________\n",
            "block5_conv1 (Conv2D)        (None, 14, 14, 512)       2359808   \n",
            "_________________________________________________________________\n",
            "block5_conv2 (Conv2D)        (None, 14, 14, 512)       2359808   \n",
            "_________________________________________________________________\n",
            "block5_conv3 (Conv2D)        (None, 14, 14, 512)       2359808   \n",
            "_________________________________________________________________\n",
            "block5_pool (MaxPooling2D)   (None, 7, 7, 512)         0         \n",
            "_________________________________________________________________\n",
            "flatten (Flatten)            (None, 25088)             0         \n",
            "_________________________________________________________________\n",
            "fc1 (Dense)                  (None, 4096)              102764544 \n",
            "_________________________________________________________________\n",
            "fc2 (Dense)                  (None, 4096)              16781312  \n",
            "_________________________________________________________________\n",
            "dense (Dense)                (None, 6)                 24582     \n",
            "=================================================================\n",
            "Total params: 134,285,126\n",
            "Trainable params: 24,582\n",
            "Non-trainable params: 134,260,544\n",
            "_________________________________________________________________\n"
          ],
          "name": "stdout"
        }
      ]
    },
    {
      "cell_type": "code",
      "metadata": {
        "id": "VyAiWMkuE3Af",
        "colab_type": "code",
        "colab": {
          "base_uri": "https://localhost:8080/",
          "height": 50
        },
        "outputId": "e7b82252-338c-401b-c711-b0f3161398fb"
      },
      "source": [
        "train_datagen = tf.keras.preprocessing.image.ImageDataGenerator(\n",
        "        rescale=1./255,\n",
        "        shear_range=0.2,\n",
        "        zoom_range=0.2,\n",
        "        horizontal_flip=True)\n",
        "\n",
        "training_set = train_datagen.flow_from_directory(\"/content/gdrive/My Drive/garythung-trashnet/train_set\",\n",
        "                                                target_size=(224, 224),\n",
        "                                                batch_size=32,\n",
        "                                                class_mode=\"categorical\",\n",
        "                                                shuffle=True\n",
        "                                                )\n",
        "test_datagen = tf.keras.preprocessing.image.ImageDataGenerator(rescale=1./255)\n",
        "test_set = test_datagen.flow_from_directory(\"/content/gdrive/My Drive/garythung-trashnet/test_set\",\n",
        "                                                target_size=(224, 224),\n",
        "                                                batch_size=32)\n"
      ],
      "execution_count": 8,
      "outputs": [
        {
          "output_type": "stream",
          "text": [
            "Found 2060 images belonging to 6 classes.\n",
            "Found 490 images belonging to 6 classes.\n"
          ],
          "name": "stdout"
        }
      ]
    },
    {
      "cell_type": "code",
      "metadata": {
        "id": "XBN2jl4WkmlX",
        "colab_type": "code",
        "colab": {}
      },
      "source": [
        "checkpoint_path = \"/content/gdrive/My Drive/garythung-trashnet/models1/classifiervgg.ckpt\" \n",
        "cp_callback = tf.keras.callbacks.ModelCheckpoint(checkpoint_path, \n",
        "                                                 save_weights_only=True,\n",
        "                                                 verbose=1)\n"
      ],
      "execution_count": 0,
      "outputs": []
    },
    {
      "cell_type": "code",
      "metadata": {
        "id": "FyJQUVYArrb2",
        "colab_type": "code",
        "colab": {
          "base_uri": "https://localhost:8080/",
          "height": 34
        },
        "outputId": "b8ba8b75-c74c-4147-8294-a7044fbc4bea"
      },
      "source": [
        "model.compile(optimizer=tf.keras.optimizers.Adam(lr=0.0002),\n",
        "              loss='categorical_crossentropy',metrics=['accuracy'])\n",
        "model.load_weights(checkpoint_path)"
      ],
      "execution_count": 10,
      "outputs": [
        {
          "output_type": "execute_result",
          "data": {
            "text/plain": [
              "<tensorflow.python.training.tracking.util.CheckpointLoadStatus at 0x7f82b616dc88>"
            ]
          },
          "metadata": {
            "tags": []
          },
          "execution_count": 10
        }
      ]
    },
    {
      "cell_type": "code",
      "metadata": {
        "id": "pX7Q4qbdE--y",
        "colab_type": "code",
        "colab": {
          "base_uri": "https://localhost:8080/",
          "height": 709
        },
        "outputId": "d35250a8-2a00-454a-984f-51dd1d39ac31"
      },
      "source": [
        "\n",
        "\n",
        "STEP_SIZE_TRAIN=training_set.n//training_set.batch_size\n",
        "STEP_SIZE_VALID=test_set.n//test_set.batch_size\n",
        "history=model.fit_generator(generator=training_set,\n",
        "                    steps_per_epoch=STEP_SIZE_TRAIN,\n",
        "                    epochs=10,\n",
        "                    validation_data=test_set,\n",
        "                    validation_steps=STEP_SIZE_VALID,\n",
        "                    callbacks = [cp_callback])"
      ],
      "execution_count": 28,
      "outputs": [
        {
          "output_type": "stream",
          "text": [
            "Epoch 1/10\n",
            "63/64 [============================>.] - ETA: 1s - loss: 0.5100 - accuracy: 0.8156\n",
            "Epoch 00001: saving model to /content/gdrive/My Drive/garythung-trashnet/models1/classifiervgg.ckpt\n",
            "64/64 [==============================] - 87s 1s/step - loss: 0.5123 - accuracy: 0.8141 - val_loss: 1.2588 - val_accuracy: 0.5938\n",
            "Epoch 2/10\n",
            "63/64 [============================>.] - ETA: 1s - loss: 0.5720 - accuracy: 0.7851\n",
            "Epoch 00002: saving model to /content/gdrive/My Drive/garythung-trashnet/models1/classifiervgg.ckpt\n",
            "64/64 [==============================] - 86s 1s/step - loss: 0.5691 - accuracy: 0.7860 - val_loss: 1.0594 - val_accuracy: 0.6792\n",
            "Epoch 3/10\n",
            "63/64 [============================>.] - ETA: 1s - loss: 0.6008 - accuracy: 0.7700\n",
            "Epoch 00003: saving model to /content/gdrive/My Drive/garythung-trashnet/models1/classifiervgg.ckpt\n",
            "64/64 [==============================] - 86s 1s/step - loss: 0.6003 - accuracy: 0.7712 - val_loss: 1.2467 - val_accuracy: 0.6479\n",
            "Epoch 4/10\n",
            "63/64 [============================>.] - ETA: 1s - loss: 0.5989 - accuracy: 0.7861\n",
            "Epoch 00004: saving model to /content/gdrive/My Drive/garythung-trashnet/models1/classifiervgg.ckpt\n",
            "64/64 [==============================] - 86s 1s/step - loss: 0.5975 - accuracy: 0.7860 - val_loss: 1.0742 - val_accuracy: 0.6896\n",
            "Epoch 5/10\n",
            "63/64 [============================>.] - ETA: 1s - loss: 0.5266 - accuracy: 0.8111\n",
            "Epoch 00005: saving model to /content/gdrive/My Drive/garythung-trashnet/models1/classifiervgg.ckpt\n",
            "64/64 [==============================] - 86s 1s/step - loss: 0.5231 - accuracy: 0.8116 - val_loss: 1.0514 - val_accuracy: 0.6667\n",
            "Epoch 6/10\n",
            "63/64 [============================>.] - ETA: 1s - loss: 0.5171 - accuracy: 0.8076\n",
            "Epoch 00006: saving model to /content/gdrive/My Drive/garythung-trashnet/models1/classifiervgg.ckpt\n",
            "64/64 [==============================] - 87s 1s/step - loss: 0.5167 - accuracy: 0.8077 - val_loss: 1.0576 - val_accuracy: 0.6917\n",
            "Epoch 7/10\n",
            "63/64 [============================>.] - ETA: 1s - loss: 0.5721 - accuracy: 0.7791\n",
            "Epoch 00007: saving model to /content/gdrive/My Drive/garythung-trashnet/models1/classifiervgg.ckpt\n",
            "64/64 [==============================] - 86s 1s/step - loss: 0.5711 - accuracy: 0.7816 - val_loss: 1.0744 - val_accuracy: 0.7042\n",
            "Epoch 8/10\n",
            "63/64 [============================>.] - ETA: 1s - loss: 0.4945 - accuracy: 0.8216\n",
            "Epoch 00008: saving model to /content/gdrive/My Drive/garythung-trashnet/models1/classifiervgg.ckpt\n",
            "64/64 [==============================] - 86s 1s/step - loss: 0.4944 - accuracy: 0.8205 - val_loss: 1.1173 - val_accuracy: 0.6687\n",
            "Epoch 9/10\n",
            "63/64 [============================>.] - ETA: 1s - loss: 0.4973 - accuracy: 0.8136\n",
            "Epoch 00009: saving model to /content/gdrive/My Drive/garythung-trashnet/models1/classifiervgg.ckpt\n",
            "64/64 [==============================] - 86s 1s/step - loss: 0.4935 - accuracy: 0.8161 - val_loss: 1.1540 - val_accuracy: 0.6896\n",
            "Epoch 10/10\n",
            "63/64 [============================>.] - ETA: 1s - loss: 0.5650 - accuracy: 0.7871\n",
            "Epoch 00010: saving model to /content/gdrive/My Drive/garythung-trashnet/models1/classifiervgg.ckpt\n",
            "64/64 [==============================] - 86s 1s/step - loss: 0.5691 - accuracy: 0.7860 - val_loss: 1.0718 - val_accuracy: 0.6896\n"
          ],
          "name": "stdout"
        }
      ]
    },
    {
      "cell_type": "code",
      "metadata": {
        "id": "dks6rer6icY-",
        "colab_type": "code",
        "colab": {
          "base_uri": "https://localhost:8080/",
          "height": 54
        },
        "outputId": "3103397a-84e3-4bfb-b660-7a7543bb04bb"
      },
      "source": [
        "!ls {'content/gdrive/\"My Drive\"/garythung-trashnet/models'}"
      ],
      "execution_count": 14,
      "outputs": [
        {
          "output_type": "stream",
          "text": [
            "ls: cannot access 'content/gdrive/My Drive/garythung-trashnet/models': No such file or directory\n"
          ],
          "name": "stdout"
        }
      ]
    },
    {
      "cell_type": "code",
      "metadata": {
        "id": "Mx9lsnn7fcQc",
        "colab_type": "code",
        "colab": {
          "base_uri": "https://localhost:8080/",
          "height": 34
        },
        "outputId": "bb6fd004-9b5e-4d44-c154-c1b1301ba3bf"
      },
      "source": [
        "\n",
        "model.load_weights(checkpoint_path)\n"
      ],
      "execution_count": 15,
      "outputs": [
        {
          "output_type": "execute_result",
          "data": {
            "text/plain": [
              "<tensorflow.python.training.tracking.util.CheckpointLoadStatus at 0x7fcee006e940>"
            ]
          },
          "metadata": {
            "tags": []
          },
          "execution_count": 15
        }
      ]
    },
    {
      "cell_type": "markdown",
      "metadata": {
        "id": "iLf_DzdnFPo9",
        "colab_type": "text"
      },
      "source": [
        "Accuracy"
      ]
    },
    {
      "cell_type": "code",
      "metadata": {
        "id": "5b_Ni8rVFKES",
        "colab_type": "code",
        "colab": {
          "base_uri": "https://localhost:8080/",
          "height": 337
        },
        "outputId": "e8c747b6-152d-417b-a7d1-c157f8ab6890"
      },
      "source": [
        "\n",
        "\n",
        "print(history.history)\n",
        "plt.plot(history.history['accuracy'], label='accuracy')\n",
        "plt.plot(history.history['val_accuracy'], label = 'val_accuracy')\n",
        "plt.xlabel('Epoch')\n",
        "plt.ylabel('Accuracy')\n",
        "plt.ylim([0.5, 1])\n",
        "plt.legend(loc='lower right')\n"
      ],
      "execution_count": 23,
      "outputs": [
        {
          "output_type": "stream",
          "text": [
            "{'loss': [0.5320773185827793, 0.5317804849829665, 0.5645841698086944, 0.5442906700412667, 0.5255589017853934], 'accuracy': [0.7924063, 0.79585797, 0.7928994, 0.7978304, 0.80473375], 'val_loss': [0.9503461996714274, 1.0247215350468954, 1.0118873635927836, 1.1517273426055907, 0.9957771142323811], 'val_accuracy': [0.73333335, 0.7083333, 0.73333335, 0.65, 0.71666664]}\n"
          ],
          "name": "stdout"
        },
        {
          "output_type": "execute_result",
          "data": {
            "text/plain": [
              "<matplotlib.legend.Legend at 0x7fce7d997588>"
            ]
          },
          "metadata": {
            "tags": []
          },
          "execution_count": 23
        },
        {
          "output_type": "display_data",
          "data": {
            "image/png": "[encoded data removed]",
            "text/plain": [
              "<Figure size 432x288 with 1 Axes>"
            ]
          },
          "metadata": {
            "tags": []
          }
        }
      ]
    },
    {
      "cell_type": "markdown",
      "metadata": {
        "id": "u17NAqiCFUts",
        "colab_type": "text"
      },
      "source": [
        "Loss"
      ]
    },
    {
      "cell_type": "code",
      "metadata": {
        "id": "Fr2GYDK6FYAg",
        "colab_type": "code",
        "colab": {
          "base_uri": "https://localhost:8080/",
          "height": 300
        },
        "outputId": "77917cb4-fc55-490b-b1b8-cd5520a5f4c0"
      },
      "source": [
        "plt.figure\n",
        "plt.plot(history.history['loss'], label='loss')\n",
        "plt.plot(history.history['val_loss'], label = 'val_loss')\n",
        "plt.xlabel('Epoch')\n",
        "plt.ylabel('loss')\n",
        "plt.ylim([0.5, 1])\n",
        "plt.legend(loc='lower right')"
      ],
      "execution_count": 24,
      "outputs": [
        {
          "output_type": "execute_result",
          "data": {
            "text/plain": [
              "<matplotlib.legend.Legend at 0x7fce92a0c320>"
            ]
          },
          "metadata": {
            "tags": []
          },
          "execution_count": 24
        },
        {
          "output_type": "display_data",
          "data": {
            "image/png": "[encoded data removed]",
            "text/plain": [
              "<Figure size 432x288 with 1 Axes>"
            ]
          },
          "metadata": {
            "tags": []
          }
        }
      ]
    },
    {
      "cell_type": "code",
      "metadata": {
        "id": "BBAY16beGjiK",
        "colab_type": "code",
        "colab": {
          "base_uri": "https://localhost:8080/",
          "height": 34
        },
        "outputId": "fdf67095-66ee-40ad-c089-2bfbb18e0762"
      },
      "source": [
        "test = test_datagen.flow_from_directory(\"/content/gdrive/My Drive/garythung-trashnet/test_set\",\n",
        "                                                target_size=(224, 224),\n",
        "                                                batch_size=490)\n"
      ],
      "execution_count": 11,
      "outputs": [
        {
          "output_type": "stream",
          "text": [
            "Found 490 images belonging to 6 classes.\n"
          ],
          "name": "stdout"
        }
      ]
    },
    {
      "cell_type": "code",
      "metadata": {
        "id": "mMpxWBq7Gp5u",
        "colab_type": "code",
        "colab": {}
      },
      "source": [
        "\n",
        "test_img,test_label=next(test)\n",
        "y_pred=model.predict_classes(test_img)"
      ],
      "execution_count": 0,
      "outputs": []
    },
    {
      "cell_type": "code",
      "metadata": {
        "id": "85iOREDYX1vI",
        "colab_type": "code",
        "colab": {
          "base_uri": "https://localhost:8080/",
          "height": 70
        },
        "outputId": "5cc1c5f6-fe43-4f7a-8642-770fa3030dbf"
      },
      "source": [
        "# y_pred=np.round(model.predict_generator(test,steps=1))\n",
        "test.class_indices\n",
        "test_loss, test_acc = model.evaluate(test_img,  test_label)\n",
        "print(test_acc)"
      ],
      "execution_count": 13,
      "outputs": [
        {
          "output_type": "stream",
          "text": [
            "\r490/1 [============================================================================================================================================================================================================================================================================================================================================================================================================================================================================================================================================================================================================================================================================================================================================================================================================================================================================================================================================================================================================================================================================================================================================================================================================================================================================================================================================================================================================================================================================================================================================================================================================================================================================================================================================================================================================================================================================================================================================================================================================================================================================================================================================================================================================================================================================================================================================================================================================================================================================================================================================================================================================================================================================================================================================================================================================================================================================================================================================================================================================================================================================================================================================================================================================================================================================================================================================================================================================================================================================================================================================================================================================================================================================================================================================================================================================================================================================================================================================================================================================================================================================================================================================================================================================================================================================================================================================================================================================================================================================================================================================================================================================================================================================================================================================================================================================================================================================================================================================================================================================================================================================================================================================================================================================================================================================================================================================================================================================================================================================================================================================================================================================================================================================================================================================================================================================================================================================================================================================================================================================================================================================================================================================================================================================================================================================================================================================================================================================================================================================================================================================================================================================================================================================================================================================================================================================================================================================================================================================================================================================================================================================================================================================================================================================================================================================================================================================================================================================================================================================================================================================================================================================================================================================================================================================================================================================================================================================================================================================================================================================================================================================================================================================================================================================================================================================================================================================================================================================================================================================================================================================================================================================================================================================================================================================================================================================================================================================================================================================================================================================================================================================================================================================================================================================================================================================================================================================================================================================================================================================================================================================================================================================================================================================================================================================================================================================================================================================================================================================================================================================================================================================================================================================================================================================================================================================================================================================================================================================================================================================================================================================================================================================================================================================================================================================================================================================================================================================================================================================================================================================================================================================================================================================================================================================================================================================================================================================================================================================================================================================================================================================================================================================================================================================================================================================================================================================================================================================================================================================================================================================================================================================================================================================================================================================================================================================================================================================================================================================================================================================================================================================================================================================================================================================================================================================================================================================================================================================================================================================================================================================================================================================================================================================================================================================================================================================================================================================================================================================================================================================================================================================================================================================================================================================================================================================================================================================================================================================================================================================================================================================================================================================================================================================================================================================================================================================================================================================================================================================================================================================================================================================================================================================================================================================================================================================================================================================================================================================================================================================================================================================================================================================================================================================================================================================================================================================================================] - 3s 6ms/sample - loss: 1.4499 - accuracy: 0.6918\n",
            "0.6918367\n"
          ],
          "name": "stdout"
        }
      ]
    },
    {
      "cell_type": "code",
      "metadata": {
        "id": "1nFHh3VBgxhC",
        "colab_type": "code",
        "colab": {
          "base_uri": "https://localhost:8080/",
          "height": 34
        },
        "outputId": "3696f2c2-b190-433d-abfc-bc50583f813b"
      },
      "source": [
        "print(test_loss)"
      ],
      "execution_count": 14,
      "outputs": [
        {
          "output_type": "stream",
          "text": [
            "1.0642329084629916\n"
          ],
          "name": "stdout"
        }
      ]
    },
    {
      "cell_type": "code",
      "metadata": {
        "id": "yrQ7eR7iGwUK",
        "colab_type": "code",
        "colab": {
          "base_uri": "https://localhost:8080/",
          "height": 401
        },
        "outputId": "f1fcd45c-9b2b-4132-95d7-d4ebe5810b52"
      },
      "source": [
        "test_p=[]\n",
        "for i in range(test_label.shape[0]):\n",
        "  flag=0\n",
        "  for j in range(test_label.shape[1]):\n",
        "      if(test_label[i][j]==1):\n",
        "        test_p.append(j)\n",
        "\n",
        "\n",
        "from sklearn.metrics import confusion_matrix\n",
        "from sklearn.metrics import classification_report\n",
        "import itertools\n",
        "con_mat = confusion_matrix(test_p,y_pred)\n",
        "def plot_confusion_matrix(cm,\n",
        "                          target_names):\n",
        "\n",
        "\tcmap = plt.get_cmap('Blues')\n",
        "\n",
        "\tplt.figure(figsize=(6, 6))\n",
        "\tplt.imshow(cm, interpolation='nearest', cmap=cmap)\n",
        "\n",
        "\tif target_names is not None:\n",
        "\t\ttick_marks = np.arange(len(target_names))\n",
        "\t\tplt.xticks(tick_marks, target_names)\n",
        "\t\tplt.yticks(tick_marks, target_names)\n",
        "\n",
        "\tthresh = cm.max() / 2\n",
        "\tfor i, j in itertools.product(range(cm.shape[0]), range(cm.shape[1])):\n",
        "\t\tplt.text(j, i, \"{:,}\".format(cm[i, j]),\n",
        "\t\t\t\t\thorizontalalignment=\"center\",\n",
        "\t\t\t\t\tcolor=\"white\" if cm[i, j] > thresh else \"black\")\n",
        "\t\n",
        "\tplt.ylabel('True label')\n",
        "\tplt.xlabel('Predicted label')\n",
        "\tplt.tight_layout()\n",
        "\tplt.show()\n",
        " \n",
        "labels = ['cardboard','glass','metal','nonrecycle','paper','plastic']\n",
        "plot_confusion_matrix(con_mat, labels)"
      ],
      "execution_count": 15,
      "outputs": [
        {
          "output_type": "display_data",
          "data": {
            "image/png": "[encoded data removed]",
            "text/plain": [
              "<Figure size 432x432 with 1 Axes>"
            ]
          },
          "metadata": {
            "tags": []
          }
        }
      ]
    },
    {
      "cell_type": "code",
      "metadata": {
        "id": "e-Qno3h1zqRE",
        "colab_type": "code",
        "colab": {
          "base_uri": "https://localhost:8080/",
          "height": 235
        },
        "outputId": "a95d5a48-7c7c-442e-977d-7eafe9bd6662"
      },
      "source": [
        "print(classification_report(test_p, y_pred, target_names=labels))"
      ],
      "execution_count": 18,
      "outputs": [
        {
          "output_type": "stream",
          "text": [
            "              precision    recall  f1-score   support\n",
            "\n",
            "   cardboard       0.97      0.61      0.75        64\n",
            "       glass       0.51      0.82      0.63        65\n",
            "       metal       0.80      0.67      0.73       108\n",
            "  nonrecycle       0.48      0.39      0.43        36\n",
            "       paper       0.67      0.89      0.77       110\n",
            "     plastic       0.77      0.59      0.67       107\n",
            "\n",
            "    accuracy                           0.69       490\n",
            "   macro avg       0.70      0.66      0.66       490\n",
            "weighted avg       0.73      0.69      0.69       490\n",
            "\n"
          ],
          "name": "stdout"
        }
      ]
    }
  ]
}