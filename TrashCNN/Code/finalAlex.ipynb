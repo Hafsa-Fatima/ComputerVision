{
  "nbformat": 4,
  "nbformat_minor": 0,
  "metadata": {
    "colab": {
      "name": "finalAlex.ipynb",
      "provenance": [],
      "collapsed_sections": [],
      "machine_shape": "hm"
    },
    "kernelspec": {
      "name": "python3",
      "display_name": "Python 3"
    },
    "accelerator": "GPU"
  },
  "cells": [
    {
      "cell_type": "code",
      "metadata": {
        "id": "RmeLRpCzIZrl",
        "colab_type": "code",
        "colab": {}
      },
      "source": [
        "from __future__ import absolute_import, division, print_function, unicode_literals\n",
        "\n",
        "try:\n",
        "  # %tensorflow_version only exists in Colab.\n",
        "  %tensorflow_version 2.x\n",
        "except Exception:\n",
        "  pass\n",
        "import tensorflow as tf\n",
        "\n",
        "from tensorflow.keras import datasets, layers, models,metrics\n",
        "from tensorflow.keras.models import Sequential\n",
        "from tensorflow.keras.layers import Dense, Activation, Dropout, Flatten,Conv2D, MaxPooling2D\n",
        "from tensorflow.keras.layers import BatchNormalization\n",
        "import matplotlib.pyplot as plt\n",
        "import numpy as np\n",
        "from datetime import datetime\n",
        "from packaging import version\n",
        "\n",
        "\n"
      ],
      "execution_count": 0,
      "outputs": []
    },
    {
      "cell_type": "code",
      "metadata": {
        "id": "oNgLN5f5uqQn",
        "colab_type": "code",
        "colab": {
          "base_uri": "https://localhost:8080/",
          "height": 104
        },
        "outputId": "cb7566e6-931e-435e-c6df-46d2329672a6"
      },
      "source": [
        "%load_ext tensorboard\n",
        "!rm -rf ./logs/ \n",
        "from google.colab import drive\n",
        "drive.mount('/content/gdrive')\n",
        "PATH_OF_DATA= '/content/gdrive/\"My Drive\"/garythung-trashnet'\n",
        "!ls {PATH_OF_DATA}"
      ],
      "execution_count": 24,
      "outputs": [
        {
          "output_type": "stream",
          "text": [
            "The tensorboard extension is already loaded. To reload it, use:\n",
            "  %reload_ext tensorboard\n",
            "Drive already mounted at /content/gdrive; to attempt to forcibly remount, call drive.mount(\"/content/gdrive\", force_remount=True).\n",
            "models\tmodels1  test_set  train_set\n"
          ],
          "name": "stdout"
        }
      ]
    },
    {
      "cell_type": "code",
      "metadata": {
        "id": "bTWNWvrfCD92",
        "colab_type": "code",
        "colab": {}
      },
      "source": [
        "def alexnet_architecture():\n",
        "\n",
        "    model = Sequential()\n",
        "\n",
        "    # 1st Convolutional Layer\n",
        "    model.add(Conv2D(filters=96, input_shape=(224,224,3), kernel_size=(11,11),\\\n",
        "    strides=(4,4), padding='valid'))\n",
        "    model.add(Activation('relu'))\n",
        "    # Pooling \n",
        "    model.add(MaxPooling2D(pool_size=(2,2), strides=(2,2), padding='valid'))\n",
        "    # Batch Normalisation before passing it to the next layer\n",
        "    model.add(BatchNormalization())\n",
        "\n",
        "    # 2nd Convolutional Layer\n",
        "    model.add(Conv2D(filters=256, kernel_size=(11,11), strides=(1,1), padding='valid'))\n",
        "    model.add(Activation('relu'))\n",
        "    # Pooling\n",
        "    model.add(MaxPooling2D(pool_size=(2,2), strides=(2,2), padding='valid'))\n",
        "    # Batch Normalisation\n",
        "    model.add(BatchNormalization())\n",
        "\n",
        "    # 3rd Convolutional Layer\n",
        "    model.add(Conv2D(filters=384, kernel_size=(3,3), strides=(1,1), padding='valid'))\n",
        "    model.add(Activation('relu'))\n",
        "    # Batch Normalisation\n",
        "    model.add(BatchNormalization())\n",
        "\n",
        "    # 4th Convolutional Layer\n",
        "    model.add(Conv2D(filters=384, kernel_size=(3,3), strides=(1,1), padding='valid'))\n",
        "    model.add(Activation('relu'))\n",
        "    # Batch Normalisation\n",
        "    model.add(BatchNormalization())\n",
        "\n",
        "    # 5th Convolutional Layer\n",
        "    model.add(Conv2D(filters=256, kernel_size=(3,3), strides=(1,1), padding='valid'))\n",
        "    model.add(Activation('relu'))\n",
        "    # Pooling\n",
        "    model.add(MaxPooling2D(pool_size=(2,2), strides=(2,2), padding='valid'))\n",
        "    # Batch Normalisation\n",
        "    model.add(BatchNormalization())\n",
        "\n",
        "    # Passing it to a dense layer\n",
        "    model.add(Flatten())\n",
        "    # 1st Dense Layer\n",
        "    model.add(Dense(4096, input_shape=(224*224*3,)))\n",
        "    model.add(Activation('relu'))\n",
        "    # Add Dropout to prevent overfitting\n",
        "    model.add(Dropout(0.4))\n",
        "    # Batch Normalisation\n",
        "    model.add(BatchNormalization())\n",
        "\n",
        "    # 2nd Dense Layer\n",
        "    model.add(Dense(4096))\n",
        "    model.add(Activation('relu'))\n",
        "    # Add Dropout\n",
        "    model.add(Dropout(0.4))\n",
        "    # Batch Normalisation\n",
        "    model.add(BatchNormalization())\n",
        "\n",
        "    # 3rd Dense Layer\n",
        "    model.add(Dense(1000))\n",
        "    model.add(Activation('relu'))\n",
        "    # Add Dropout\n",
        "    model.add(Dropout(0.4))\n",
        "    # Batch Normalisation\n",
        "    model.add(BatchNormalization())\n",
        "\n",
        "    # Output Layer\n",
        "    model.add(Dense(6))\n",
        "    model.add(Activation('softmax'))\n",
        "    return model\n"
      ],
      "execution_count": 0,
      "outputs": []
    },
    {
      "cell_type": "code",
      "metadata": {
        "id": "D9iy_OxF-jvc",
        "colab_type": "code",
        "colab": {}
      },
      "source": [
        ""
      ],
      "execution_count": 0,
      "outputs": []
    },
    {
      "cell_type": "code",
      "metadata": {
        "id": "skIZraTVMADZ",
        "colab_type": "code",
        "colab": {}
      },
      "source": [
        ""
      ],
      "execution_count": 0,
      "outputs": []
    },
    {
      "cell_type": "code",
      "metadata": {
        "id": "JiJ_-g_lCgjP",
        "colab_type": "code",
        "colab": {}
      },
      "source": [
        "\n",
        "\n",
        "model=alexnet_architecture()\n"
      ],
      "execution_count": 0,
      "outputs": []
    },
    {
      "cell_type": "code",
      "metadata": {
        "id": "mNXqUoFM_Q1f",
        "colab_type": "code",
        "colab": {
          "base_uri": "https://localhost:8080/",
          "height": 1000
        },
        "outputId": "230e75e2-f7fa-4994-8049-5be4e331ec08"
      },
      "source": [
        "\n",
        "model.summary()"
      ],
      "execution_count": 6,
      "outputs": [
        {
          "output_type": "stream",
          "text": [
            "Model: \"sequential\"\n",
            "_________________________________________________________________\n",
            "Layer (type)                 Output Shape              Param #   \n",
            "=================================================================\n",
            "conv2d (Conv2D)              (None, 54, 54, 96)        34944     \n",
            "_________________________________________________________________\n",
            "activation (Activation)      (None, 54, 54, 96)        0         \n",
            "_________________________________________________________________\n",
            "max_pooling2d (MaxPooling2D) (None, 27, 27, 96)        0         \n",
            "_________________________________________________________________\n",
            "batch_normalization (BatchNo (None, 27, 27, 96)        384       \n",
            "_________________________________________________________________\n",
            "conv2d_1 (Conv2D)            (None, 17, 17, 256)       2973952   \n",
            "_________________________________________________________________\n",
            "activation_1 (Activation)    (None, 17, 17, 256)       0         \n",
            "_________________________________________________________________\n",
            "max_pooling2d_1 (MaxPooling2 (None, 8, 8, 256)         0         \n",
            "_________________________________________________________________\n",
            "batch_normalization_1 (Batch (None, 8, 8, 256)         1024      \n",
            "_________________________________________________________________\n",
            "conv2d_2 (Conv2D)            (None, 6, 6, 384)         885120    \n",
            "_________________________________________________________________\n",
            "activation_2 (Activation)    (None, 6, 6, 384)         0         \n",
            "_________________________________________________________________\n",
            "batch_normalization_2 (Batch (None, 6, 6, 384)         1536      \n",
            "_________________________________________________________________\n",
            "conv2d_3 (Conv2D)            (None, 4, 4, 384)         1327488   \n",
            "_________________________________________________________________\n",
            "activation_3 (Activation)    (None, 4, 4, 384)         0         \n",
            "_________________________________________________________________\n",
            "batch_normalization_3 (Batch (None, 4, 4, 384)         1536      \n",
            "_________________________________________________________________\n",
            "conv2d_4 (Conv2D)            (None, 2, 2, 256)         884992    \n",
            "_________________________________________________________________\n",
            "activation_4 (Activation)    (None, 2, 2, 256)         0         \n",
            "_________________________________________________________________\n",
            "max_pooling2d_2 (MaxPooling2 (None, 1, 1, 256)         0         \n",
            "_________________________________________________________________\n",
            "batch_normalization_4 (Batch (None, 1, 1, 256)         1024      \n",
            "_________________________________________________________________\n",
            "flatten (Flatten)            (None, 256)               0         \n",
            "_________________________________________________________________\n",
            "dense (Dense)                (None, 4096)              1052672   \n",
            "_________________________________________________________________\n",
            "activation_5 (Activation)    (None, 4096)              0         \n",
            "_________________________________________________________________\n",
            "dropout (Dropout)            (None, 4096)              0         \n",
            "_________________________________________________________________\n",
            "batch_normalization_5 (Batch (None, 4096)              16384     \n",
            "_________________________________________________________________\n",
            "dense_1 (Dense)              (None, 4096)              16781312  \n",
            "_________________________________________________________________\n",
            "activation_6 (Activation)    (None, 4096)              0         \n",
            "_________________________________________________________________\n",
            "dropout_1 (Dropout)          (None, 4096)              0         \n",
            "_________________________________________________________________\n",
            "batch_normalization_6 (Batch (None, 4096)              16384     \n",
            "_________________________________________________________________\n",
            "dense_2 (Dense)              (None, 1000)              4097000   \n",
            "_________________________________________________________________\n",
            "activation_7 (Activation)    (None, 1000)              0         \n",
            "_________________________________________________________________\n",
            "dropout_2 (Dropout)          (None, 1000)              0         \n",
            "_________________________________________________________________\n",
            "batch_normalization_7 (Batch (None, 1000)              4000      \n",
            "_________________________________________________________________\n",
            "dense_3 (Dense)              (None, 6)                 6006      \n",
            "_________________________________________________________________\n",
            "activation_8 (Activation)    (None, 6)                 0         \n",
            "=================================================================\n",
            "Total params: 28,085,758\n",
            "Trainable params: 28,064,622\n",
            "Non-trainable params: 21,136\n",
            "_________________________________________________________________\n"
          ],
          "name": "stdout"
        }
      ]
    },
    {
      "cell_type": "code",
      "metadata": {
        "id": "8XMteLZMCkex",
        "colab_type": "code",
        "colab": {
          "base_uri": "https://localhost:8080/",
          "height": 50
        },
        "outputId": "0e0857bc-f2a7-432f-978d-e904f55f3da4"
      },
      "source": [
        "train_datagen = tf.keras.preprocessing.image.ImageDataGenerator(\n",
        "        rescale=1./255,\n",
        "        shear_range=0.2,\n",
        "        zoom_range=0.2,\n",
        "        horizontal_flip=True)\n",
        "\n",
        "training_set = train_datagen.flow_from_directory(\"/content/gdrive/My Drive/garythung-trashnet/train_set\",\n",
        "                                                target_size=(224, 224),\n",
        "                                                batch_size=32,\n",
        "                                                class_mode=\"categorical\",\n",
        "                    \n",
        "                                                shuffle=True\n",
        "                                                )\n",
        "test_datagen = tf.keras.preprocessing.image.ImageDataGenerator(rescale=1./255)\n",
        "test_set = test_datagen.flow_from_directory(\"/content/gdrive/My Drive/garythung-trashnet/test_set\",\n",
        "                                                target_size=(224, 224),\n",
        "                                                batch_size=32)\n"
      ],
      "execution_count": 7,
      "outputs": [
        {
          "output_type": "stream",
          "text": [
            "Found 2060 images belonging to 6 classes.\n",
            "Found 490 images belonging to 6 classes.\n"
          ],
          "name": "stdout"
        }
      ]
    },
    {
      "cell_type": "code",
      "metadata": {
        "id": "2vx5h81BMaZw",
        "colab_type": "code",
        "colab": {}
      },
      "source": [
        "\n",
        "checkpoint_path = \"/content/gdrive/My Drive/garythung-trashnet/models/classifieralex.ckpt\" \n",
        "cp_callback = tf.keras.callbacks.ModelCheckpoint(checkpoint_path, \n",
        "                                                 save_weights_only=True,\n",
        "                                                 verbose=1)"
      ],
      "execution_count": 0,
      "outputs": []
    },
    {
      "cell_type": "code",
      "metadata": {
        "id": "DDPyMdTgQbh9",
        "colab_type": "code",
        "colab": {
          "base_uri": "https://localhost:8080/",
          "height": 34
        },
        "outputId": "5c8c8d81-10f0-42ea-a690-b094f1454f1d"
      },
      "source": [
        "model.compile(optimizer=tf.keras.optimizers.Adam(lr=0.0002),\n",
        "              loss='categorical_crossentropy',metrics=['accuracy'])\n",
        "model.load_weights(checkpoint_path)"
      ],
      "execution_count": 9,
      "outputs": [
        {
          "output_type": "execute_result",
          "data": {
            "text/plain": [
              "<tensorflow.python.training.tracking.util.CheckpointLoadStatus at 0x7f4832f21588>"
            ]
          },
          "metadata": {
            "tags": []
          },
          "execution_count": 9
        }
      ]
    },
    {
      "cell_type": "code",
      "metadata": {
        "id": "Df2848J2Co48",
        "colab_type": "code",
        "colab": {
          "base_uri": "https://localhost:8080/",
          "height": 373
        },
        "outputId": "fc533d9a-edfa-408c-b8db-27b3d516aaa8"
      },
      "source": [
        "\n",
        "\n",
        "STEP_SIZE_TRAIN=training_set.n//training_set.batch_size\n",
        "STEP_SIZE_VALID=test_set.n//test_set.batch_size\n",
        "history=model.fit_generator(generator=training_set,\n",
        "                    steps_per_epoch=STEP_SIZE_TRAIN,\n",
        "                    epochs=5,\n",
        "                    validation_data=test_set,\n",
        "                    validation_steps=STEP_SIZE_VALID,\n",
        "                    callbacks = [cp_callback])"
      ],
      "execution_count": 21,
      "outputs": [
        {
          "output_type": "stream",
          "text": [
            "Epoch 1/5\n",
            "63/64 [============================>.] - ETA: 0s - loss: 0.1840 - accuracy: 0.9419\n",
            "Epoch 00001: saving model to /content/gdrive/My Drive/garythung-trashnet/models/classifieralex.ckpt\n",
            "64/64 [==============================] - 34s 538ms/step - loss: 0.1905 - accuracy: 0.9403 - val_loss: 1.6788 - val_accuracy: 0.6438\n",
            "Epoch 2/5\n",
            "63/64 [============================>.] - ETA: 0s - loss: 0.2147 - accuracy: 0.9304\n",
            "Epoch 00002: saving model to /content/gdrive/My Drive/garythung-trashnet/models/classifieralex.ckpt\n",
            "64/64 [==============================] - 34s 535ms/step - loss: 0.2133 - accuracy: 0.9310 - val_loss: 2.2622 - val_accuracy: 0.5604\n",
            "Epoch 3/5\n",
            "63/64 [============================>.] - ETA: 0s - loss: 0.2120 - accuracy: 0.9294\n",
            "Epoch 00003: saving model to /content/gdrive/My Drive/garythung-trashnet/models/classifieralex.ckpt\n",
            "64/64 [==============================] - 34s 533ms/step - loss: 0.2090 - accuracy: 0.9305 - val_loss: 1.6109 - val_accuracy: 0.6667\n",
            "Epoch 4/5\n",
            "63/64 [============================>.] - ETA: 0s - loss: 0.1966 - accuracy: 0.9369\n",
            "Epoch 00004: saving model to /content/gdrive/My Drive/garythung-trashnet/models/classifieralex.ckpt\n",
            "64/64 [==============================] - 34s 531ms/step - loss: 0.2010 - accuracy: 0.9354 - val_loss: 1.6166 - val_accuracy: 0.6521\n",
            "Epoch 5/5\n",
            "63/64 [============================>.] - ETA: 0s - loss: 0.2314 - accuracy: 0.9238\n",
            "Epoch 00005: saving model to /content/gdrive/My Drive/garythung-trashnet/models/classifieralex.ckpt\n",
            "64/64 [==============================] - 34s 539ms/step - loss: 0.2323 - accuracy: 0.9241 - val_loss: 1.9318 - val_accuracy: 0.5792\n"
          ],
          "name": "stdout"
        }
      ]
    },
    {
      "cell_type": "code",
      "metadata": {
        "id": "axhYApB6bPvQ",
        "colab_type": "code",
        "colab": {}
      },
      "source": [
        ""
      ],
      "execution_count": 0,
      "outputs": []
    },
    {
      "cell_type": "code",
      "metadata": {
        "id": "HOWxpU4aOoSt",
        "colab_type": "code",
        "colab": {
          "base_uri": "https://localhost:8080/",
          "height": 337
        },
        "outputId": "9a2a0af2-0c86-4d38-9260-808185e8e2cf"
      },
      "source": [
        "print(history.history)\n",
        "plt.plot(history.history['accuracy'], label='accuracy')\n",
        "plt.plot(history.history['val_accuracy'], label = 'val_accuracy')\n",
        "plt.xlabel('Epoch')\n",
        "plt.ylabel('Accuracy')\n",
        "plt.ylim([0, 1])\n",
        "plt.legend(loc='lower right')"
      ],
      "execution_count": 13,
      "outputs": [
        {
          "output_type": "stream",
          "text": [
            "{'loss': [0.28543051395425667, 0.2744274715464966, 0.20817554584856804, 0.25094230199706624, 0.2645052964165366], 'accuracy': [0.9077909, 0.90680474, 0.9260355, 0.9092702, 0.9142012], 'val_loss': [1.8703209320704142, 5.9282705624898275, 1.711948808034261, 2.826495615641276, 1.5786703824996948], 'val_accuracy': [0.60625, 0.30416667, 0.64375, 0.44166666, 0.62708336]}\n"
          ],
          "name": "stdout"
        },
        {
          "output_type": "execute_result",
          "data": {
            "text/plain": [
              "<matplotlib.legend.Legend at 0x7f48327d0400>"
            ]
          },
          "metadata": {
            "tags": []
          },
          "execution_count": 13
        },
        {
          "output_type": "display_data",
          "data": {
            "image/png": "[encoded data removed]",
            "text/plain": [
              "<Figure size 432x288 with 1 Axes>"
            ]
          },
          "metadata": {
            "tags": []
          }
        }
      ]
    },
    {
      "cell_type": "code",
      "metadata": {
        "id": "tOOKFl4djA6K",
        "colab_type": "code",
        "colab": {
          "base_uri": "https://localhost:8080/",
          "height": 337
        },
        "outputId": "ef0c8e67-99c0-48dc-f3be-532e8df5d01f"
      },
      "source": [
        "print(history.history)\n",
        "plt.plot(history.history['loss'], label='accuracy')\n",
        "plt.plot(history.history['val_loss'], label = 'val_accuracy')\n",
        "plt.xlabel('Epoch')\n",
        "plt.ylabel('Accuracy')\n",
        "plt.ylim([0, 2])\n",
        "plt.legend(loc='lower right')"
      ],
      "execution_count": 14,
      "outputs": [
        {
          "output_type": "stream",
          "text": [
            "{'loss': [0.28543051395425667, 0.2744274715464966, 0.20817554584856804, 0.25094230199706624, 0.2645052964165366], 'accuracy': [0.9077909, 0.90680474, 0.9260355, 0.9092702, 0.9142012], 'val_loss': [1.8703209320704142, 5.9282705624898275, 1.711948808034261, 2.826495615641276, 1.5786703824996948], 'val_accuracy': [0.60625, 0.30416667, 0.64375, 0.44166666, 0.62708336]}\n"
          ],
          "name": "stdout"
        },
        {
          "output_type": "execute_result",
          "data": {
            "text/plain": [
              "<matplotlib.legend.Legend at 0x7f4831ed1358>"
            ]
          },
          "metadata": {
            "tags": []
          },
          "execution_count": 14
        },
        {
          "output_type": "display_data",
          "data": {
            "image/png": "[encoded data removed]",
            "text/plain": [
              "<Figure size 432x288 with 1 Axes>"
            ]
          },
          "metadata": {
            "tags": []
          }
        }
      ]
    },
    {
      "cell_type": "code",
      "metadata": {
        "id": "s7piRuLSGdSD",
        "colab_type": "code",
        "colab": {
          "base_uri": "https://localhost:8080/",
          "height": 34
        },
        "outputId": "41a1911a-28c8-4256-80b7-37055970429e"
      },
      "source": [
        "test = test_datagen.flow_from_directory(\"/content/gdrive/My Drive/garythung-trashnet/test_set\",\n",
        "                                                target_size=(224, 224),\n",
        "                                                batch_size=490)\n",
        "test_img,test_label=next(test)\n",
        "\n"
      ],
      "execution_count": 15,
      "outputs": [
        {
          "output_type": "stream",
          "text": [
            "Found 490 images belonging to 6 classes.\n"
          ],
          "name": "stdout"
        }
      ]
    },
    {
      "cell_type": "code",
      "metadata": {
        "id": "xfaPaJjnyQ54",
        "colab_type": "code",
        "colab": {}
      },
      "source": [
        "y_pred=model.predict_classes(test_img)\n"
      ],
      "execution_count": 0,
      "outputs": []
    },
    {
      "cell_type": "code",
      "metadata": {
        "id": "WKqLjK8s06U1",
        "colab_type": "code",
        "colab": {}
      },
      "source": [
        "# print(y_pred.shape[0])\n",
        "test_p=[]\n",
        "for i in range(test_label.shape[0]):\n",
        "  flag=0\n",
        "  for j in range(test_label.shape[1]):\n",
        "      if(test_label[i][j]==1):\n",
        "        test_p.append(j)\n"
      ],
      "execution_count": 0,
      "outputs": []
    },
    {
      "cell_type": "code",
      "metadata": {
        "id": "EnvCPBuw2t6F",
        "colab_type": "code",
        "colab": {
          "base_uri": "https://localhost:8080/",
          "height": 118
        },
        "outputId": "402acd55-365b-4f6d-8a6a-46c744e9432b"
      },
      "source": [
        "from sklearn.metrics import confusion_matrix\n",
        "from sklearn.metrics import classification_report\n",
        "import itertools\n",
        "con_mat = confusion_matrix(test_p,y_pred)\n",
        "print(con_mat)"
      ],
      "execution_count": 25,
      "outputs": [
        {
          "output_type": "stream",
          "text": [
            "[[41  6  1  7  4  5]\n",
            " [ 1 50  3  4  4  3]\n",
            " [ 7 23 48  6 18  6]\n",
            " [ 0  4  2 18  6  6]\n",
            " [ 1  8  1  4 93  3]\n",
            " [ 2 27  3  6 12 57]]\n"
          ],
          "name": "stdout"
        }
      ]
    },
    {
      "cell_type": "code",
      "metadata": {
        "id": "Q3B06MGYk1mV",
        "colab_type": "code",
        "colab": {
          "base_uri": "https://localhost:8080/",
          "height": 87
        },
        "outputId": "b8043dab-9654-49f9-87f5-7a58276aa6a6"
      },
      "source": [
        "test.class_indices\n",
        "test_loss, test_acc = model.evaluate(test_img,  test_label)\n",
        "print(test_acc)\n",
        "print(test_loss)"
      ],
      "execution_count": 26,
      "outputs": [
        {
          "output_type": "stream",
          "text": [
            "\r490/1 [============================================================================================================================================================================================================================================================================================================================================================================================================================================================================================================================================================================================================================================================================================================================================================================================================================================================================================================================================================================================================================================================================================================================================================================================================================================================================================================================================================================================================================================================================================================================================================================================================================================================================================================================================================================================================================================================================================================================================================================================================================================================================================================================================================================================================================================================================================================================================================================================================================================================================================================================================================================================================================================================================================================================================================================================================================================================================================================================================================================================================================================================================================================================================================================================================================================================================================================================================================================================================================================================================================================================================================================================================================================================================================================================================================================================================================================================================================================================================================================================================================================================================================================================================================================================================================================================================================================================================================================================================================================================================================================================================================================================================================================================================================================================================================================================================================================================================================================================================================================================================================================================================================================================================================================================================================================================================================================================================================================================================================================================================================================================================================================================================================================================================================================================================================================================================================================================================================================================================================================================================================================================================================================================================================================================================================================================================================================================================================================================================================================================================================================================================================================================================================================================================================================================================================================================================================================================================================================================================================================================================================================================================================================================================================================================================================================================================================================================================================================================================================================================================================================================================================================================================================================================================================================================================================================================================================================================================================================================================================================================================================================================================================================================================================================================================================================================================================================================================================================================================================================================================================================================================================================================================================================================================================================================================================================================================================================================================================================================================================================================================================================================================================================================================================================================================================================================================================================================================================================================================================================================================================================================================================================================================================================================================================================================================================================================================================================================================================================================================================================================================================================================================================================================================================================================================================================================================================================================================================================================================================================================================================================================================================================================================================================================================================================================================================================================================================================================================================================================================================================================================================================================================================================================================================================================================================================================================================================================================================================================================================================================================================================================================================================================================================================================================================================================================================================================================================================================================================================================================================================================================================================================================================================================================================================================================================================================================================================================================================================================================================================================================================================================================================================================================================================================================================================================================================================================================================================================================================================================================================================================================================================================================================================================================================================================================================================================================================================================================================================================================================================================================================================================================================================================================================================================================================================================================================================================================================================================================================================================================================================================================================================================================================================================================================================================================================================================================================================================================================================================================================================================================================================================================================================================================================================================================================================================================================================================================================================================================================================================================================================================================================================================================================================================================================================================================================================================================================================] - 1s 1ms/sample - loss: 2.3542 - accuracy: 0.5755\n",
            "0.5755102\n",
            "1.9473982042195845\n"
          ],
          "name": "stdout"
        }
      ]
    },
    {
      "cell_type": "code",
      "metadata": {
        "id": "4CbTmark27CM",
        "colab_type": "code",
        "colab": {
          "base_uri": "https://localhost:8080/",
          "height": 401
        },
        "outputId": "a67d1b91-ae7a-444e-a1b8-64ea784f3fd4"
      },
      "source": [
        "def plot_confusion_matrix(cm,\n",
        "                          target_names):\n",
        "\n",
        "\tcmap = plt.get_cmap('Blues')\n",
        "\n",
        "\tplt.figure(figsize=(6, 6))\n",
        "\tplt.imshow(cm, interpolation='nearest', cmap=cmap)\n",
        "\n",
        "\tif target_names is not None:\n",
        "\t\ttick_marks = np.arange(len(target_names))\n",
        "\t\tplt.xticks(tick_marks, target_names)\n",
        "\t\tplt.yticks(tick_marks, target_names)\n",
        "\n",
        "\tthresh = cm.max() / 2\n",
        "\tfor i, j in itertools.product(range(cm.shape[0]), range(cm.shape[1])):\n",
        "\t\tplt.text(j, i, \"{:,}\".format(cm[i, j]),\n",
        "\t\t\t\t\thorizontalalignment=\"center\",\n",
        "\t\t\t\t\tcolor=\"white\" if cm[i, j] > thresh else \"black\")\n",
        "\t\n",
        "\tplt.ylabel('True label')\n",
        "\tplt.xlabel('Predicted label')\n",
        "\tplt.tight_layout()\n",
        "\tplt.show()\n",
        " \n",
        "labels = ['cardboard','glass','metal','nonrecycle','paper','plastic']\n",
        "plot_confusion_matrix(con_mat, labels)"
      ],
      "execution_count": 20,
      "outputs": [
        {
          "output_type": "display_data",
          "data": {
            "image/png": "[encoded data removed]",
            "text/plain": [
              "<Figure size 432x432 with 1 Axes>"
            ]
          },
          "metadata": {
            "tags": []
          }
        }
      ]
    },
    {
      "cell_type": "code",
      "metadata": {
        "id": "IHJXr9PxpX8f",
        "colab_type": "code",
        "colab": {
          "base_uri": "https://localhost:8080/",
          "height": 235
        },
        "outputId": "c7fd9811-9753-41fe-eeca-ffeed9b35f12"
      },
      "source": [
        "print(classification_report(test_p, y_pred, target_names=labels))"
      ],
      "execution_count": 27,
      "outputs": [
        {
          "output_type": "stream",
          "text": [
            "              precision    recall  f1-score   support\n",
            "\n",
            "   cardboard       0.79      0.64      0.71        64\n",
            "       glass       0.42      0.77      0.55        65\n",
            "       metal       0.83      0.44      0.58       108\n",
            "  nonrecycle       0.40      0.50      0.44        36\n",
            "       paper       0.68      0.85      0.75       110\n",
            "     plastic       0.71      0.53      0.61       107\n",
            "\n",
            "    accuracy                           0.63       490\n",
            "   macro avg       0.64      0.62      0.61       490\n",
            "weighted avg       0.68      0.63      0.63       490\n",
            "\n"
          ],
          "name": "stdout"
        }
      ]
    }
  ]
}